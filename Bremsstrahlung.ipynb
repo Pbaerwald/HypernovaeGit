{
 "metadata": {
  "language": "Julia",
  "name": ""
 },
 "nbformat": 3,
 "nbformat_minor": 0,
 "worksheets": [
  {
   "cells": [
    {
     "cell_type": "code",
     "collapsed": false,
     "input": [
      "using PyPlot\n",
      "using Base.Test"
     ],
     "language": "python",
     "metadata": {},
     "outputs": [
      {
       "output_type": "stream",
       "stream": "stdout",
       "text": [
        "Loading help data...\n"
       ]
      },
      {
       "output_type": "stream",
       "stream": "stderr",
       "text": [
        "Warning: Possible conflict in library symbol dtrtri_\n",
        "Warning: Possible conflict in library symbol dgetri_\n",
        "Warning: Possible conflict in library symbol dgetrf_\n"
       ]
      }
     ],
     "prompt_number": 1
    },
    {
     "cell_type": "code",
     "collapsed": false,
     "input": [
      "#function which describes the emission by a single particle \n",
      "#function of impact parameter (b), lorentz factor (gamma), angular frequency of emitted light (omega)\n",
      "function single_particle_emission(x::Float64)\n",
      "    @assert(x > 0.0)\n",
      "    bessel = besselk(1,x); \n",
      "    return x*bessel*bessel; \n",
      "end"
     ],
     "language": "python",
     "metadata": {},
     "outputs": [
      {
       "metadata": {},
       "output_type": "pyout",
       "prompt_number": 2,
       "text": [
        "single_particle_emission (generic function with 1 method)"
       ]
      }
     ],
     "prompt_number": 2
    },
    {
     "cell_type": "code",
     "collapsed": false,
     "input": [
      "#funcion which expresseds the Maxwell-Juttner distribution \n",
      "#the probability distribution for a relativistic gas \n",
      "#with Lorentz factors gamma. The imputs are the Lorentz\n",
      "#factor and the temperature which is scaled for the \n",
      "#electron rest mass energy. \n",
      "\n",
      "\n",
      "function MJ_distribution(gamma::Float64,T::Float64)\n",
      "    @assert(gamma >= 1.0);\n",
      "    @assert(T >= 0.0); \n",
      "    beta = sqrt(1.0-1.0/gamma/gamma);\n",
      "    denom = T*besselk(2,1.0/T);\n",
      "    denom > 0.0 ? (return gamma*gamma*beta*exp(-gamma/T)/denom) : return 0.0;\n",
      "end"
     ],
     "language": "python",
     "metadata": {},
     "outputs": [
      {
       "metadata": {},
       "output_type": "pyout",
       "prompt_number": 3,
       "text": [
        "MJ_distribution (generic function with 1 method)"
       ]
      }
     ],
     "prompt_number": 3
    },
    {
     "cell_type": "code",
     "collapsed": false,
     "input": [
      "gamma = linspace(1,10000,1000000); \n",
      "mj = map(a->MJ_distribution(a,100.),gamma); "
     ],
     "language": "python",
     "metadata": {},
     "outputs": [],
     "prompt_number": 3
    },
    {
     "cell_type": "code",
     "collapsed": false,
     "input": [
      "plot(log10(gamma),log10(mj));\n",
      "axis([-0.5,4,-10,1.0]);"
     ],
     "language": "python",
     "metadata": {},
     "outputs": [
      {
       "metadata": {},
       "output_type": "display_data",
       "png": "[encoded data removed]",
       "text": [
        "Figure(PyObject <matplotlib.figure.Figure object at 0x110433750>)"
       ]
      }
     ],
     "prompt_number": 3
    },
    {
     "cell_type": "code",
     "collapsed": false,
     "input": [
      "#returns the single energy emissivity for relativistic Bremsstrahlung\n",
      "#Inputs:\n",
      "#       omega -- angular frequency of light [electron rest mass energy] \n",
      "#       gamma -- lorentz factor of electron [1] \n",
      "#Ouputs: \n",
      "#       gives dW/dt_dV_domega (omega,gamma) from notes \n",
      "# NOT YET NORMALIZED \n",
      "function single_energy_emissivity(this_omega::Float64,this_gamma::Float64)\n",
      "    @assert(this_omega > 0.0); \n",
      "    @assert(this_gamma > 1.0); \n",
      "    \n",
      "    x_min = this_omega/this_gamma/this_gamma;\n",
      "    \n",
      "    #needs to be \"close\" to infinity \n",
      "    xf = 10;     \n",
      "    \n",
      "    tol = 1e-5; \n",
      "    result1, err1= quadgk(single_particle_emission,x_min,0.75*xf);\n",
      "    result2, err2 = quadgk(single_particle_emission,0.75*xf,xf);\n",
      "    #make sure the upper bound is close to infinity \n",
      "    @assert(result2 < tol) \n",
      "    @assert(maximum([err1,err2]) < tol);\n",
      "    \n",
      "    return result1+result2;  \n",
      "end\n",
      "    \n",
      "    "
     ],
     "language": "python",
     "metadata": {},
     "outputs": [
      {
       "metadata": {},
       "output_type": "pyout",
       "prompt_number": 4,
       "text": [
        "single_energy_emissivity (generic function with 1 method)"
       ]
      }
     ],
     "prompt_number": 4
    },
    {
     "cell_type": "code",
     "collapsed": false,
     "input": [
      "function specific_emissivity(nu::Float64,temp::Float64)\n",
      "    @assert(nu > 0.0); \n",
      "    @assert(temp > 0.0); \n",
      "    \n",
      "    #angular frequency scaled to electron rest mass\n",
      "    omega = 8.0933e-21*nu; \n",
      "    \n",
      "    #temperature scaled to electron rest mass \n",
      "    theta = 1.787387e-10*temp; \n",
      "    \n",
      "    max_gamma = maximum([1000.0*theta,100.0]); \n",
      "    \n",
      "    normalization, normalization_err= quadgk(a -> MJ_distribution(a,theta),1.0,max_gamma);\n",
      "    if normalization == 0.0\n",
      "        return 0.0; \n",
      "    end\n",
      "    numerator, numerator_err = quadgk(b -> single_energy_emissivity(omega,b)*MJ_distribution(b,theta),1.0,max_gamma); \n",
      "    \n",
      "    #println(\"numerator is: \",numerator); \n",
      "    #println(\"normalization is: \",normalization); \n",
      "    #println(\"Error is about: \",maximum([normalization_err,numerator_err]));\n",
      "    \n",
      "    this_result = numerator/normalization; \n",
      "    \n",
      "    this_result > 0.0 ? (return this_result) : return abs(this_result); \n",
      "end"
     ],
     "language": "python",
     "metadata": {},
     "outputs": [
      {
       "metadata": {},
       "output_type": "pyout",
       "prompt_number": 5,
       "text": [
        "specific_emissivity (generic function with 1 method)"
       ]
      }
     ],
     "prompt_number": 5
    },
    {
     "cell_type": "code",
     "collapsed": false,
     "input": [
      "exponents = linspace(1,25,500);\n",
      "frequency = 10.^exponents;"
     ],
     "language": "python",
     "metadata": {},
     "outputs": [],
     "prompt_number": 5
    },
    {
     "cell_type": "code",
     "collapsed": false,
     "input": [
      "@time my_specific_emissivity = map(c->specific_emissivity(c,1e8),frequency);"
     ],
     "language": "python",
     "metadata": {},
     "outputs": [
      {
       "output_type": "stream",
       "stream": "stderr",
       "text": [
        "Warning: Possible conflict in library symbol dstev_\n"
       ]
      },
      {
       "output_type": "stream",
       "stream": "stdout",
       "text": [
        "elapsed time: 158"
       ]
      },
      {
       "output_type": "stream",
       "stream": "stdout",
       "text": [
        ".941515916 seconds (31409498260 bytes allocated)\n"
       ]
      }
     ],
     "prompt_number": 5
    },
    {
     "cell_type": "code",
     "collapsed": false,
     "input": [
      "plot(log10(frequency),log10(my_specific_emissivity),\"o\");"
     ],
     "language": "python",
     "metadata": {},
     "outputs": [
      {
       "metadata": {},
       "output_type": "display_data",
       "png": "[encoded data removed]",
       "text": [
        "Figure(PyObject <matplotlib.figure.Figure object at 0x10eb3e750>)"
       ]
      }
     ],
     "prompt_number": 5
    },
    {
     "cell_type": "code",
     "collapsed": false,
     "input": [
      "#Calculations the scattering cross section as a function of normalized photon energy\n",
      "#the energy is normalized to the electron rest mass energy AS SEEN IN THE ELECTRONS REST FRAME\n",
      "#has some approximations for the non-relativisitic and ultra-relativistic \n",
      "#regimes as well as the full KN treatment. \n",
      "function scattering_cross_section(sx::Float64)\n",
      "    @assert(sx > 0.0); \n",
      "    low_limit = 0.1; \n",
      "    high_limit = 100.0; \n",
      "    result = 0.0; \n",
      "    \n",
      "    if(sx < low_limit)\n",
      "       result = 1.0-2*sx+26.0*sx*sx/5; \n",
      "    elseif(sx > high_limit)\n",
      "        result = 3*(log(2*sx)+0.5)/(8*sx); \n",
      "    else\n",
      "        temp0 = log(1.0+2.0*sx);\n",
      "        temp1 = 2*sx*(1+sx)/(1+2*sx) - temp0; \n",
      "        temp1 = (1.0+sx)*temp1/sx/sx/sx; \n",
      "        \n",
      "        temp2 = 0.5*temp0/sx;\n",
      "            \n",
      "        temp3 = (1.0+3.0*sx)/(1.0+2.0*sx)/(1.0+2.0*sx); \n",
      "            \n",
      "        result = 0.75(temp1+temp2-temp3);\n",
      "    end\n",
      "        \n",
      "    #TODO add the normalization of the Thompson cross section \n",
      "    return result;\n",
      "end"
     ],
     "language": "python",
     "metadata": {},
     "outputs": [
      {
       "metadata": {},
       "output_type": "pyout",
       "prompt_number": 67,
       "text": [
        "scattering_cross_section (generic function with 1 method)"
       ]
      }
     ],
     "prompt_number": 67
    },
    {
     "cell_type": "code",
     "collapsed": false,
     "input": [
      "exponents = linspace(-6,7,100000); \n",
      "xs = 10.^(exponents);"
     ],
     "language": "python",
     "metadata": {},
     "outputs": [],
     "prompt_number": 67
    },
    {
     "cell_type": "code",
     "collapsed": false,
     "input": [
      "scs = map(scattering_cross_section,xs);"
     ],
     "language": "python",
     "metadata": {},
     "outputs": [],
     "prompt_number": 67
    },
    {
     "cell_type": "code",
     "collapsed": false,
     "input": [
      "plot(log10(xs),log10(scs));"
     ],
     "language": "python",
     "metadata": {},
     "outputs": [
      {
       "metadata": {},
       "output_type": "display_data",
       "png": "[encoded data removed]",
       "text": [
        "Figure(PyObject <matplotlib.figure.Figure object at 0x113eb9790>)"
       ]
      }
     ],
     "prompt_number": 69
    },
    {
     "cell_type": "code",
     "collapsed": false,
     "input": [
      "minimum(scs)"
     ],
     "language": "python",
     "metadata": {},
     "outputs": [
      {
       "metadata": {},
       "output_type": "pyout",
       "prompt_number": 69,
       "text": [
        "6.491716061819349e-7"
       ]
      }
     ],
     "prompt_number": 69
    },
    {
     "cell_type": "markdown",
     "metadata": {},
     "source": [
      "Next steps:\n",
      "\n",
      "1. Check to see if freqency integrated emission checks out\n",
      "2. Add normalizations, pre-factors, etc \n",
      "1. Add energy dependence of cross section\n",
      "    1. how can I transform into the electrons rest frame? \n",
      "    2. do I need to take scattering angles into account or are they forward/backward symettric [KN?]\n",
      "2. Gaunt factor\n",
      "    1. is it ok to use the approximations from the book? \n",
      "    2. other references? Nakagawa, Kohyama and Itoh '86\n"
     ]
    }
   ],
   "metadata": {}
  }
 ]
}
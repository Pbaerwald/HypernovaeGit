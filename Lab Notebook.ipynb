{
 "metadata": {
  "language": "Julia",
  "name": ""
 },
 "nbformat": 3,
 "nbformat_minor": 0,
 "worksheets": [
  {
   "cells": [
    {
     "cell_type": "heading",
     "level": 2,
     "metadata": {},
     "source": [
      "5/13/14"
     ]
    },
    {
     "cell_type": "markdown",
     "metadata": {},
     "source": [
      "trying to determine where the criteria $v_{min} \\sim \\sqrt{2h\\nu/m_e}$ and $ \\frac{b_{max}}{b_{min}} > 1$ are satisfied"
     ]
    },
    {
     "cell_type": "code",
     "collapsed": false,
     "input": [
      "using PyPlot"
     ],
     "language": "python",
     "metadata": {},
     "outputs": [
      {
       "output_type": "stream",
       "stream": "stderr",
       "text": [
        "INFO: Loading help data..."
       ]
      },
      {
       "output_type": "stream",
       "stream": "stderr",
       "text": [
        "\n"
       ]
      }
     ],
     "prompt_number": 5
    },
    {
     "cell_type": "code",
     "collapsed": false,
     "input": [
      "freq_ex = linspace(15.3,22,1000); \n",
      "freq = 10.^freq_ex;\n",
      "v_ex = linspace(0,10,1000); \n",
      "v = 10.^v_ex; "
     ],
     "language": "python",
     "metadata": {},
     "outputs": [],
     "prompt_number": 47
    },
    {
     "cell_type": "code",
     "collapsed": false,
     "input": [
      "include(\"brem_funcs.jl\")"
     ],
     "language": "python",
     "metadata": {},
     "outputs": [
      {
       "metadata": {},
       "output_type": "pyout",
       "prompt_number": 61,
       "text": [
        "specific_emissivity (generic function with 1 method)"
       ]
      }
     ],
     "prompt_number": 61
    },
    {
     "cell_type": "code",
     "collapsed": false,
     "input": [
      "v_min = sqrt(2*h*freq/m_e);\n",
      "v_b = (8*charge_e^2*freq/m_e).^(1/3)\n",
      "log_v_c = log10(4*charge_e^2/h);"
     ],
     "language": "python",
     "metadata": {},
     "outputs": [],
     "prompt_number": 48
    },
    {
     "cell_type": "code",
     "collapsed": false,
     "input": [
      "plot(log10(freq),log10(v_min))\n",
      "plot([2,22],[log_v_c, log_v_c])\n",
      "plot(log10(freq),log10(v_b));\n",
      "legend([L\"$v_{min}$\",L\"$v_c$\",L\"$\\frac{b_{max}}{b_{min}}>1$\"],loc =0)"
     ],
     "language": "python",
     "metadata": {},
     "outputs": [
      {
       "metadata": {},
       "output_type": "display_data",
       "png": "[encoded data removed]",
       "text": [
        "Figure(PyObject <matplotlib.figure.Figure object at 0x118edd550>)"
       ]
      },
      {
       "metadata": {},
       "output_type": "pyout",
       "prompt_number": 49,
       "text": [
        "PyObject <matplotlib.legend.Legend object at 0x1195c3410>"
       ]
      }
     ],
     "prompt_number": 49
    },
    {
     "cell_type": "code",
     "collapsed": false,
     "input": [
      "#critical frequency that we care about \n",
      "nu_c = 8*m_e*charge_e^4/(h^3)"
     ],
     "language": "python",
     "metadata": {},
     "outputs": [
      {
       "metadata": {},
       "output_type": "pyout",
       "prompt_number": 54,
       "text": [
        "1.3333226903214098e15"
       ]
      }
     ],
     "prompt_number": 54
    },
    {
     "cell_type": "code",
     "collapsed": false,
     "input": [
      "#critical photon energy in GeV\n",
      "h*nu_c*624.15"
     ],
     "language": "python",
     "metadata": {},
     "outputs": [
      {
       "metadata": {},
       "output_type": "pyout",
       "prompt_number": 56,
       "text": [
        "5.514176015167844e-9"
       ]
      }
     ],
     "prompt_number": 56
    },
    {
     "cell_type": "code",
     "collapsed": false,
     "input": [
      "#critical velocity \n",
      "4*charge_e^2/h"
     ],
     "language": "python",
     "metadata": {},
     "outputs": [
      {
       "metadata": {},
       "output_type": "pyout",
       "prompt_number": 50,
       "text": [
        "1.392727599531049e8"
       ]
      }
     ],
     "prompt_number": 50
    },
    {
     "cell_type": "code",
     "collapsed": false,
     "input": [
      "#frequency bound for using NR solver \n",
      "0.2*m_e*c^2/h"
     ],
     "language": "python",
     "metadata": {},
     "outputs": [
      {
       "metadata": {},
       "output_type": "pyout",
       "prompt_number": 51,
       "text": [
        "2.4711795596071387e19"
       ]
      }
     ],
     "prompt_number": 51
    },
    {
     "cell_type": "code",
     "collapsed": false,
     "input": [
      "#temperature bound for using NR solver \n",
      "0.01*m_e*c^2/k_B"
     ],
     "language": "python",
     "metadata": {},
     "outputs": [
      {
       "metadata": {},
       "output_type": "pyout",
       "prompt_number": 58,
       "text": [
        "5.929861825308531e7"
       ]
      }
     ],
     "prompt_number": 58
    },
    {
     "cell_type": "markdown",
     "metadata": {},
     "source": [
      "Check normalization constants "
     ]
    },
    {
     "cell_type": "code",
     "collapsed": false,
     "input": [
      "32*pi*charge_e^6/(3*m_e^2*c^3*h)"
     ],
     "language": "python",
     "metadata": {},
     "outputs": [
      {
       "metadata": {},
       "output_type": "pyout",
       "prompt_number": 59,
       "text": [
        "2.777597142004603e-6"
       ]
      }
     ],
     "prompt_number": 59
    },
    {
     "cell_type": "code",
     "collapsed": false,
     "input": [
      "32*pi*charge_e^6/(3*m_e^2*c^4*h)"
     ],
     "language": "python",
     "metadata": {},
     "outputs": [
      {
       "metadata": {},
       "output_type": "pyout",
       "prompt_number": 60,
       "text": [
        "9.265066774977383e-17"
       ]
      }
     ],
     "prompt_number": 60
    },
    {
     "cell_type": "code",
     "collapsed": false,
     "input": [
      "include(\"brem_funcs.jl\"); "
     ],
     "language": "python",
     "metadata": {},
     "outputs": [],
     "prompt_number": 74
    },
    {
     "cell_type": "code",
     "collapsed": false,
     "input": [
      "freq_ex = linspace(15.3,22.,1000); \n",
      "freq = 10.^freq_ex;"
     ],
     "language": "python",
     "metadata": {},
     "outputs": [],
     "prompt_number": 74
    },
    {
     "cell_type": "code",
     "collapsed": false,
     "input": [
      "result = map(c-> specific_emissivity(c,1e7),freq); "
     ],
     "language": "python",
     "metadata": {},
     "outputs": [],
     "prompt_number": 77
    },
    {
     "cell_type": "code",
     "collapsed": false,
     "input": [
      "plot(log10(freq),result)"
     ],
     "language": "python",
     "metadata": {},
     "outputs": [
      {
       "metadata": {},
       "output_type": "display_data",
       "png": "[encoded data removed]",
       "text": [
        "Figure(PyObject <matplotlib.figure.Figure object at 0x119b53610>)"
       ]
      },
      {
       "metadata": {},
       "output_type": "pyout",
       "prompt_number": 78,
       "text": [
        "1-element Array{Any,1}:\n",
        " PyObject <matplotlib.lines.Line2D object at 0x119f73d90>"
       ]
      }
     ],
     "prompt_number": 78
    },
    {
     "cell_type": "code",
     "collapsed": false,
     "input": [
      "result"
     ],
     "language": "python",
     "metadata": {},
     "outputs": [
      {
       "metadata": {},
       "output_type": "pyout",
       "prompt_number": 72,
       "text": [
        "1000-element Array{Float64,1}:\n",
        " 3.19601e-22\n",
        " 2.77045e-22\n",
        " 2.39909e-22\n",
        " 2.07536e-22\n",
        " 1.79343e-22\n",
        " 1.54818e-22\n",
        " 1.33504e-22\n",
        " 1.15002e-22\n",
        " 9.89574e-23\n",
        " 8.50589e-23\n",
        " 7.30326e-23\n",
        " 6.26376e-23\n",
        " 5.36625e-23\n",
        " \u22ee          \n",
        " 0.0        \n",
        " 0.0        \n",
        " 0.0        \n",
        " 0.0        \n",
        " 0.0        \n",
        " 0.0        \n",
        " 0.0        \n",
        " 0.0        \n",
        " 0.0        \n",
        " 0.0        \n",
        " 0.0        \n",
        " 0.0        "
       ]
      }
     ],
     "prompt_number": 72
    },
    {
     "cell_type": "code",
     "collapsed": false,
     "input": [
      "2*0.1^2"
     ],
     "language": "python",
     "metadata": {},
     "outputs": [
      {
       "metadata": {},
       "output_type": "pyout",
       "prompt_number": 64,
       "text": [
        "0.020000000000000004"
       ]
      }
     ],
     "prompt_number": 64
    },
    {
     "cell_type": "code",
     "collapsed": false,
     "input": [
      "T_c=0.01*2*h*nu_c/k_B"
     ],
     "language": "python",
     "metadata": {},
     "outputs": [
      {
       "metadata": {},
       "output_type": "pyout",
       "prompt_number": 68,
       "text": [
        "1279.7806280675998"
       ]
      }
     ],
     "prompt_number": 68
    },
    {
     "cell_type": "code",
     "collapsed": false,
     "input": [
      "sqrt(k_B*T_c/(2*h*nu_c))"
     ],
     "language": "python",
     "metadata": {},
     "outputs": [
      {
       "metadata": {},
       "output_type": "pyout",
       "prompt_number": 69,
       "text": [
        "0.1"
       ]
      }
     ],
     "prompt_number": 69
    },
    {
     "cell_type": "code",
     "collapsed": false,
     "input": [
      "maximum(100,1.0)"
     ],
     "language": "python",
     "metadata": {},
     "outputs": [
      {
       "ename": "LoadError",
       "evalue": "no method maximum(Int64, Float64)\nwhile loading In[74], in expression starting on line 1",
       "output_type": "pyerr",
       "traceback": [
        "no method maximum(Int64, Float64)\nwhile loading In[74], in expression starting on line 1"
       ]
      }
     ],
     "prompt_number": 74
    },
    {
     "cell_type": "code",
     "collapsed": false,
     "input": [],
     "language": "python",
     "metadata": {},
     "outputs": []
    }
   ],
   "metadata": {}
  }
 ]
}